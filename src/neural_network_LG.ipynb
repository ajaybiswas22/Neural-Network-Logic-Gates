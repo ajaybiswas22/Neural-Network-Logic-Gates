{
 "cells": [
  {
   "cell_type": "code",
   "execution_count": 17,
   "metadata": {},
   "outputs": [],
   "source": [
    "import numpy as np\n",
    "import matplotlib.pyplot as plt \n",
    "import math\n",
    "import pandas as pd"
   ]
  },
  {
   "cell_type": "code",
   "execution_count": 18,
   "metadata": {},
   "outputs": [],
   "source": [
    "def sigmoid(h):\n",
    "    return 1/(1+np.exp(-h))"
   ]
  },
  {
   "cell_type": "code",
   "execution_count": 19,
   "metadata": {},
   "outputs": [],
   "source": [
    "def sigmoid_der(h):\n",
    "    return h*(1-h)"
   ]
  },
  {
   "cell_type": "markdown",
   "metadata": {},
   "source": [
    "### AND Gate"
   ]
  },
  {
   "cell_type": "code",
   "execution_count": 29,
   "metadata": {},
   "outputs": [
    {
     "data": {
      "text/html": [
       "<div>\n",
       "<style scoped>\n",
       "    .dataframe tbody tr th:only-of-type {\n",
       "        vertical-align: middle;\n",
       "    }\n",
       "\n",
       "    .dataframe tbody tr th {\n",
       "        vertical-align: top;\n",
       "    }\n",
       "\n",
       "    .dataframe thead th {\n",
       "        text-align: right;\n",
       "    }\n",
       "</style>\n",
       "<table border=\"1\" class=\"dataframe\">\n",
       "  <thead>\n",
       "    <tr style=\"text-align: right;\">\n",
       "      <th></th>\n",
       "      <th>X1</th>\n",
       "      <th>X2</th>\n",
       "      <th>Y</th>\n",
       "    </tr>\n",
       "  </thead>\n",
       "  <tbody>\n",
       "    <tr>\n",
       "      <th>0</th>\n",
       "      <td>0</td>\n",
       "      <td>0</td>\n",
       "      <td>0</td>\n",
       "    </tr>\n",
       "    <tr>\n",
       "      <th>1</th>\n",
       "      <td>0</td>\n",
       "      <td>1</td>\n",
       "      <td>0</td>\n",
       "    </tr>\n",
       "    <tr>\n",
       "      <th>2</th>\n",
       "      <td>1</td>\n",
       "      <td>0</td>\n",
       "      <td>0</td>\n",
       "    </tr>\n",
       "    <tr>\n",
       "      <th>3</th>\n",
       "      <td>1</td>\n",
       "      <td>1</td>\n",
       "      <td>1</td>\n",
       "    </tr>\n",
       "  </tbody>\n",
       "</table>\n",
       "</div>"
      ],
      "text/plain": [
       "   X1  X2  Y\n",
       "0   0   0  0\n",
       "1   0   1  0\n",
       "2   1   0  0\n",
       "3   1   1  1"
      ]
     },
     "metadata": {},
     "output_type": "display_data"
    }
   ],
   "source": [
    "# Inputs and Outputs\n",
    "X = np.array([[0,0],[0,1],[1,0],[1,1]])\n",
    "Y =np.array([[0],[0],[0],[1]])\n",
    "\n",
    "df = pd.DataFrame(np.concatenate((X,Y),axis=1), columns = ['X1','X2','Y'])\n",
    "display(df)\n"
   ]
  },
  {
   "cell_type": "code",
   "execution_count": 13,
   "metadata": {},
   "outputs": [],
   "source": [
    "# Initialize the weight and bias randomely\n",
    "W =np.random.uniform(size=(2,1)) \n",
    "B =np.random.uniform(size=(1,1))\n",
    "\n",
    "times = 500\n",
    "Epoch=np.arange(0,times)\n",
    "Error=[0]*times\n",
    "\n",
    "for i in range(0,times):\n",
    "\n",
    "    # Forward propagation \n",
    "\n",
    "    a1 = X    #(4,2)\n",
    "    z2 = np.dot(a1, W) + B    #(4,1)\n",
    "    a2 = sigmoid(z2)    #(4,1)\n",
    "    a2.shape\n",
    "\n",
    "    # Backward Propogation\n",
    "\n",
    "    error = (Y - a2)    #(4,1)\n",
    "    delta_output = error * sigmoid_der(a2) # (4, 1)   \n",
    "    update = np.dot(a1.T, delta_output)  #(2, 1)   \n",
    "    W = W + update #(2,1)   \n",
    "    B = B + sum(delta_output) #(1,1) \n",
    "    \n",
    "    Error[i]=error.mean()    # storing mean error\n"
   ]
  },
  {
   "cell_type": "code",
   "execution_count": 14,
   "metadata": {},
   "outputs": [
    {
     "data": {
      "text/plain": [
       "[<matplotlib.lines.Line2D at 0x20b47dbb100>]"
      ]
     },
     "execution_count": 14,
     "metadata": {},
     "output_type": "execute_result"
    },
    {
     "data": {
      "image/png": "[encoded data removed]",
      "text/plain": [
       "<Figure size 432x288 with 1 Axes>"
      ]
     },
     "metadata": {
      "needs_background": "light"
     },
     "output_type": "display_data"
    }
   ],
   "source": [
    "# plot\n",
    "plt.xlabel('Epoch') \n",
    "plt.ylabel('Error') \n",
    "plt.title('Error vs Epoch for AND Gate') \n",
    "plt.plot(Epoch, Error) "
   ]
  },
  {
   "cell_type": "markdown",
   "metadata": {},
   "source": [
    "### OR Gate"
   ]
  },
  {
   "cell_type": "code",
   "execution_count": 30,
   "metadata": {},
   "outputs": [
    {
     "data": {
      "text/html": [
       "<div>\n",
       "<style scoped>\n",
       "    .dataframe tbody tr th:only-of-type {\n",
       "        vertical-align: middle;\n",
       "    }\n",
       "\n",
       "    .dataframe tbody tr th {\n",
       "        vertical-align: top;\n",
       "    }\n",
       "\n",
       "    .dataframe thead th {\n",
       "        text-align: right;\n",
       "    }\n",
       "</style>\n",
       "<table border=\"1\" class=\"dataframe\">\n",
       "  <thead>\n",
       "    <tr style=\"text-align: right;\">\n",
       "      <th></th>\n",
       "      <th>X1</th>\n",
       "      <th>X2</th>\n",
       "      <th>Y</th>\n",
       "    </tr>\n",
       "  </thead>\n",
       "  <tbody>\n",
       "    <tr>\n",
       "      <th>0</th>\n",
       "      <td>0</td>\n",
       "      <td>0</td>\n",
       "      <td>0</td>\n",
       "    </tr>\n",
       "    <tr>\n",
       "      <th>1</th>\n",
       "      <td>0</td>\n",
       "      <td>1</td>\n",
       "      <td>1</td>\n",
       "    </tr>\n",
       "    <tr>\n",
       "      <th>2</th>\n",
       "      <td>1</td>\n",
       "      <td>0</td>\n",
       "      <td>1</td>\n",
       "    </tr>\n",
       "    <tr>\n",
       "      <th>3</th>\n",
       "      <td>1</td>\n",
       "      <td>1</td>\n",
       "      <td>1</td>\n",
       "    </tr>\n",
       "  </tbody>\n",
       "</table>\n",
       "</div>"
      ],
      "text/plain": [
       "   X1  X2  Y\n",
       "0   0   0  0\n",
       "1   0   1  1\n",
       "2   1   0  1\n",
       "3   1   1  1"
      ]
     },
     "metadata": {},
     "output_type": "display_data"
    }
   ],
   "source": [
    "# Inputs and Outputs\n",
    "X = np.array([[0,0],[0,1],[1,0],[1,1]])\n",
    "Y =np.array([[0],[1],[1],[1]])\n",
    "\n",
    "df = pd.DataFrame(np.concatenate((X,Y),axis=1), columns = ['X1','X2','Y'])\n",
    "display(df)"
   ]
  },
  {
   "cell_type": "code",
   "execution_count": 31,
   "metadata": {},
   "outputs": [],
   "source": [
    "# Initialize the weight and bias randomely\n",
    "W =np.random.uniform(size=(2,1)) \n",
    "B =np.random.uniform(size=(1,1))\n",
    "\n",
    "times = 1000\n",
    "Epoch=np.arange(0,times)\n",
    "Error=[0]*times\n",
    "\n",
    "for i in range(0,times):\n",
    "\n",
    "    # Forward propagation \n",
    "\n",
    "    a1 = X    #(4,2)\n",
    "    z2 = np.dot(a1, W) + B    #(4,1)\n",
    "    a2 = sigmoid(z2)    #(4,1)\n",
    "    a2.shape\n",
    "\n",
    "    # Backward Propogation\n",
    "\n",
    "    error = (Y - a2)    #(4,1)\n",
    "    delta_output = error * sigmoid_der(a2) # (4, 1)   \n",
    "    update = np.dot(a1.T, delta_output)  #(2, 1)   \n",
    "    W = W + update #(2,1)   \n",
    "    B = B + sum(delta_output) #(1,1) \n",
    "    \n",
    "    Error[i]=error.mean()    # storing mean error\n"
   ]
  },
  {
   "cell_type": "code",
   "execution_count": 32,
   "metadata": {},
   "outputs": [
    {
     "data": {
      "text/plain": [
       "[<matplotlib.lines.Line2D at 0x20b48b512e0>]"
      ]
     },
     "execution_count": 32,
     "metadata": {},
     "output_type": "execute_result"
    },
    {
     "data": {
      "image/png": "[encoded data removed]",
      "text/plain": [
       "<Figure size 432x288 with 1 Axes>"
      ]
     },
     "metadata": {
      "needs_background": "light"
     },
     "output_type": "display_data"
    }
   ],
   "source": [
    "# plot\n",
    "plt.xlabel('Epoch') \n",
    "plt.ylabel('Error') \n",
    "plt.title('Error vs Epoch for OR Gate') \n",
    "plt.plot(Epoch, Error)"
   ]
  },
  {
   "cell_type": "markdown",
   "metadata": {},
   "source": [
    "### NAND Gate"
   ]
  },
  {
   "cell_type": "code",
   "execution_count": 33,
   "metadata": {},
   "outputs": [
    {
     "data": {
      "text/html": [
       "<div>\n",
       "<style scoped>\n",
       "    .dataframe tbody tr th:only-of-type {\n",
       "        vertical-align: middle;\n",
       "    }\n",
       "\n",
       "    .dataframe tbody tr th {\n",
       "        vertical-align: top;\n",
       "    }\n",
       "\n",
       "    .dataframe thead th {\n",
       "        text-align: right;\n",
       "    }\n",
       "</style>\n",
       "<table border=\"1\" class=\"dataframe\">\n",
       "  <thead>\n",
       "    <tr style=\"text-align: right;\">\n",
       "      <th></th>\n",
       "      <th>X1</th>\n",
       "      <th>X2</th>\n",
       "      <th>Y</th>\n",
       "    </tr>\n",
       "  </thead>\n",
       "  <tbody>\n",
       "    <tr>\n",
       "      <th>0</th>\n",
       "      <td>0</td>\n",
       "      <td>0</td>\n",
       "      <td>1</td>\n",
       "    </tr>\n",
       "    <tr>\n",
       "      <th>1</th>\n",
       "      <td>0</td>\n",
       "      <td>1</td>\n",
       "      <td>1</td>\n",
       "    </tr>\n",
       "    <tr>\n",
       "      <th>2</th>\n",
       "      <td>1</td>\n",
       "      <td>0</td>\n",
       "      <td>1</td>\n",
       "    </tr>\n",
       "    <tr>\n",
       "      <th>3</th>\n",
       "      <td>1</td>\n",
       "      <td>1</td>\n",
       "      <td>0</td>\n",
       "    </tr>\n",
       "  </tbody>\n",
       "</table>\n",
       "</div>"
      ],
      "text/plain": [
       "   X1  X2  Y\n",
       "0   0   0  1\n",
       "1   0   1  1\n",
       "2   1   0  1\n",
       "3   1   1  0"
      ]
     },
     "metadata": {},
     "output_type": "display_data"
    }
   ],
   "source": [
    "# Inputs and Outputs\n",
    "X = np.array([[0,0],[0,1],[1,0],[1,1]])\n",
    "Y =np.array([[1],[1],[1],[0]])\n",
    "\n",
    "df = pd.DataFrame(np.concatenate((X,Y),axis=1), columns = ['X1','X2','Y'])\n",
    "display(df)"
   ]
  },
  {
   "cell_type": "code",
   "execution_count": 34,
   "metadata": {},
   "outputs": [],
   "source": [
    "# Initialize the weight and bias randomely\n",
    "W =np.random.uniform(size=(2,1)) \n",
    "B =np.random.uniform(size=(1,1))\n",
    "\n",
    "times = 1000\n",
    "Epoch=np.arange(0,times)\n",
    "Error=[0]*times\n",
    "\n",
    "for i in range(0,times):\n",
    "\n",
    "    # Forward propagation \n",
    "\n",
    "    a1 = X    #(4,2)\n",
    "    z2 = np.dot(a1, W) + B    #(4,1)\n",
    "    a2 = sigmoid(z2)    #(4,1)\n",
    "    a2.shape\n",
    "\n",
    "    # Backward Propogation\n",
    "\n",
    "    error = (Y - a2)    #(4,1)\n",
    "    delta_output = error * sigmoid_der(a2) # (4, 1)   \n",
    "    update = np.dot(a1.T, delta_output)  #(2, 1)   \n",
    "    W = W + update #(2,1)   \n",
    "    B = B + sum(delta_output) #(1,1) \n",
    "    \n",
    "    Error[i]=error.mean()    # storing mean error\n"
   ]
  },
  {
   "cell_type": "code",
   "execution_count": 35,
   "metadata": {},
   "outputs": [
    {
     "data": {
      "text/plain": [
       "[<matplotlib.lines.Line2D at 0x20b49cf7ac0>]"
      ]
     },
     "execution_count": 35,
     "metadata": {},
     "output_type": "execute_result"
    },
    {
     "data": {
      "image/png": "[encoded data removed]",
      "text/plain": [
       "<Figure size 432x288 with 1 Axes>"
      ]
     },
     "metadata": {
      "needs_background": "light"
     },
     "output_type": "display_data"
    }
   ],
   "source": [
    "# plot\n",
    "plt.xlabel('Epoch') \n",
    "plt.ylabel('Error') \n",
    "plt.title('Error vs Epoch for OR Gate') \n",
    "plt.plot(Epoch, Error)"
   ]
  },
  {
   "cell_type": "markdown",
   "metadata": {},
   "source": [
    "### NOR Gate"
   ]
  },
  {
   "cell_type": "code",
   "execution_count": 37,
   "metadata": {},
   "outputs": [
    {
     "data": {
      "text/html": [
       "<div>\n",
       "<style scoped>\n",
       "    .dataframe tbody tr th:only-of-type {\n",
       "        vertical-align: middle;\n",
       "    }\n",
       "\n",
       "    .dataframe tbody tr th {\n",
       "        vertical-align: top;\n",
       "    }\n",
       "\n",
       "    .dataframe thead th {\n",
       "        text-align: right;\n",
       "    }\n",
       "</style>\n",
       "<table border=\"1\" class=\"dataframe\">\n",
       "  <thead>\n",
       "    <tr style=\"text-align: right;\">\n",
       "      <th></th>\n",
       "      <th>X1</th>\n",
       "      <th>X2</th>\n",
       "      <th>Y</th>\n",
       "    </tr>\n",
       "  </thead>\n",
       "  <tbody>\n",
       "    <tr>\n",
       "      <th>0</th>\n",
       "      <td>0</td>\n",
       "      <td>0</td>\n",
       "      <td>1</td>\n",
       "    </tr>\n",
       "    <tr>\n",
       "      <th>1</th>\n",
       "      <td>0</td>\n",
       "      <td>1</td>\n",
       "      <td>0</td>\n",
       "    </tr>\n",
       "    <tr>\n",
       "      <th>2</th>\n",
       "      <td>1</td>\n",
       "      <td>0</td>\n",
       "      <td>0</td>\n",
       "    </tr>\n",
       "    <tr>\n",
       "      <th>3</th>\n",
       "      <td>1</td>\n",
       "      <td>1</td>\n",
       "      <td>0</td>\n",
       "    </tr>\n",
       "  </tbody>\n",
       "</table>\n",
       "</div>"
      ],
      "text/plain": [
       "   X1  X2  Y\n",
       "0   0   0  1\n",
       "1   0   1  0\n",
       "2   1   0  0\n",
       "3   1   1  0"
      ]
     },
     "metadata": {},
     "output_type": "display_data"
    }
   ],
   "source": [
    "# Inputs and Outputs\n",
    "X = np.array([[0,0],[0,1],[1,0],[1,1]])\n",
    "Y =np.array([[1],[0],[0],[0]])\n",
    "\n",
    "df = pd.DataFrame(np.concatenate((X,Y),axis=1), columns = ['X1','X2','Y'])\n",
    "display(df)"
   ]
  },
  {
   "cell_type": "code",
   "execution_count": 38,
   "metadata": {},
   "outputs": [],
   "source": [
    "# Initialize the weight and bias randomely\n",
    "W =np.random.uniform(size=(2,1)) \n",
    "B =np.random.uniform(size=(1,1))\n",
    "\n",
    "times = 1000\n",
    "Epoch=np.arange(0,times)\n",
    "Error=[0]*times\n",
    "\n",
    "for i in range(0,times):\n",
    "\n",
    "    # Forward propagation \n",
    "\n",
    "    a1 = X    #(4,2)\n",
    "    z2 = np.dot(a1, W) + B    #(4,1)\n",
    "    a2 = sigmoid(z2)    #(4,1)\n",
    "    a2.shape\n",
    "\n",
    "    # Backward Propogation\n",
    "\n",
    "    error = (Y - a2)    #(4,1)\n",
    "    delta_output = error * sigmoid_der(a2) # (4, 1)   \n",
    "    update = np.dot(a1.T, delta_output)  #(2, 1)   \n",
    "    W = W + update #(2,1)   \n",
    "    B = B + sum(delta_output) #(1,1) \n",
    "    \n",
    "    Error[i]=error.mean()    # storing mean error\n"
   ]
  },
  {
   "cell_type": "code",
   "execution_count": 39,
   "metadata": {},
   "outputs": [
    {
     "data": {
      "text/plain": [
       "[<matplotlib.lines.Line2D at 0x20b49d4b880>]"
      ]
     },
     "execution_count": 39,
     "metadata": {},
     "output_type": "execute_result"
    },
    {
     "data": {
      "image/png": "[encoded data removed]",
      "text/plain": [
       "<Figure size 432x288 with 1 Axes>"
      ]
     },
     "metadata": {
      "needs_background": "light"
     },
     "output_type": "display_data"
    }
   ],
   "source": [
    "# plot\n",
    "plt.xlabel('Epoch') \n",
    "plt.ylabel('Error') \n",
    "plt.title('Error vs Epoch for OR Gate') \n",
    "plt.plot(Epoch, Error)"
   ]
  },
  {
   "cell_type": "markdown",
   "metadata": {},
   "source": [
    "### XOR Gate"
   ]
  },
  {
   "cell_type": "code",
   "execution_count": 40,
   "metadata": {},
   "outputs": [
    {
     "data": {
      "text/html": [
       "<div>\n",
       "<style scoped>\n",
       "    .dataframe tbody tr th:only-of-type {\n",
       "        vertical-align: middle;\n",
       "    }\n",
       "\n",
       "    .dataframe tbody tr th {\n",
       "        vertical-align: top;\n",
       "    }\n",
       "\n",
       "    .dataframe thead th {\n",
       "        text-align: right;\n",
       "    }\n",
       "</style>\n",
       "<table border=\"1\" class=\"dataframe\">\n",
       "  <thead>\n",
       "    <tr style=\"text-align: right;\">\n",
       "      <th></th>\n",
       "      <th>X1</th>\n",
       "      <th>X2</th>\n",
       "      <th>Y</th>\n",
       "    </tr>\n",
       "  </thead>\n",
       "  <tbody>\n",
       "    <tr>\n",
       "      <th>0</th>\n",
       "      <td>0</td>\n",
       "      <td>0</td>\n",
       "      <td>0</td>\n",
       "    </tr>\n",
       "    <tr>\n",
       "      <th>1</th>\n",
       "      <td>0</td>\n",
       "      <td>1</td>\n",
       "      <td>1</td>\n",
       "    </tr>\n",
       "    <tr>\n",
       "      <th>2</th>\n",
       "      <td>1</td>\n",
       "      <td>0</td>\n",
       "      <td>1</td>\n",
       "    </tr>\n",
       "    <tr>\n",
       "      <th>3</th>\n",
       "      <td>1</td>\n",
       "      <td>1</td>\n",
       "      <td>0</td>\n",
       "    </tr>\n",
       "  </tbody>\n",
       "</table>\n",
       "</div>"
      ],
      "text/plain": [
       "   X1  X2  Y\n",
       "0   0   0  0\n",
       "1   0   1  1\n",
       "2   1   0  1\n",
       "3   1   1  0"
      ]
     },
     "metadata": {},
     "output_type": "display_data"
    }
   ],
   "source": [
    "X = np.array([[0, 0], [0, 1], [1, 0], [1, 1]])\n",
    "Y = np.array([[0], [1], [1], [0]])\n",
    "\n",
    "df = pd.DataFrame(np.concatenate((X,Y),axis=1), columns = ['X1','X2','Y'])\n",
    "display(df)"
   ]
  },
  {
   "cell_type": "code",
   "execution_count": 51,
   "metadata": {},
   "outputs": [],
   "source": [
    "times = 500\n",
    "Epoch=np.arange(0,times)\n",
    "Error=[0]*times\n",
    "Wh=np.random.uniform(size=(2,2)) \n",
    "Bh=np.random.uniform(size=(1,2)) \n",
    "Wo=np.random.uniform(size=(2,1)) \n",
    "Bo=np.random.uniform(size=(1,1)) \n",
    "for i in range(0,times):\n",
    "    a1 = X\n",
    "    z2 = np.dot(a1, Wh) + Bh\n",
    "    a2 = sigmoid(z2)\n",
    "    z3 = np.dot(a2, Wo) + Bo\n",
    "    a3 = sigmoid(z3)\n",
    "    error = (Y - a3)\n",
    "    Error[i]=error.mean()\n",
    "    delta_output = error * sigmoid_der(a3) #(4,1)\n",
    "    output_update = np.dot(a2.T, delta_output) #(2,1)\n",
    "    error_h = np.dot(delta_output, Wo.T) #(4,2)\n",
    "    delta_hidden = error_h * sigmoid_der(a2) #(4,2)\n",
    "    hidden_update = np.dot(a1.T, delta_hidden) #(2,2)\n",
    "    Wo = Wo + output_update*0.1 #(2,1)\n",
    "    Bo = Bo + np.sum(delta_output,axis=0)*0.1 #(1,1)\n",
    "    Wh = Wh + hidden_update*0.1 #(2,2)\n",
    "    Bh = Bh + np.sum(delta_hidden,axis=0)*0.1 #(1,2)"
   ]
  },
  {
   "cell_type": "code",
   "execution_count": 52,
   "metadata": {},
   "outputs": [
    {
     "data": {
      "text/plain": [
       "[<matplotlib.lines.Line2D at 0x20b49f09190>]"
      ]
     },
     "execution_count": 52,
     "metadata": {},
     "output_type": "execute_result"
    },
    {
     "data": {
      "image/png": "[encoded data removed]",
      "text/plain": [
       "<Figure size 432x288 with 1 Axes>"
      ]
     },
     "metadata": {
      "needs_background": "light"
     },
     "output_type": "display_data"
    }
   ],
   "source": [
    "# plot\n",
    "plt.xlabel('Epoch') \n",
    "plt.ylabel('Error') \n",
    "plt.title('Error vs Epoch for XOR Gate') \n",
    "plt.plot(Epoch, Error) "
   ]
  },
  {
   "cell_type": "markdown",
   "metadata": {},
   "source": [
    "### XNOR Gate"
   ]
  },
  {
   "cell_type": "code",
   "execution_count": 54,
   "metadata": {},
   "outputs": [
    {
     "data": {
      "text/html": [
       "<div>\n",
       "<style scoped>\n",
       "    .dataframe tbody tr th:only-of-type {\n",
       "        vertical-align: middle;\n",
       "    }\n",
       "\n",
       "    .dataframe tbody tr th {\n",
       "        vertical-align: top;\n",
       "    }\n",
       "\n",
       "    .dataframe thead th {\n",
       "        text-align: right;\n",
       "    }\n",
       "</style>\n",
       "<table border=\"1\" class=\"dataframe\">\n",
       "  <thead>\n",
       "    <tr style=\"text-align: right;\">\n",
       "      <th></th>\n",
       "      <th>X1</th>\n",
       "      <th>X2</th>\n",
       "      <th>Y</th>\n",
       "    </tr>\n",
       "  </thead>\n",
       "  <tbody>\n",
       "    <tr>\n",
       "      <th>0</th>\n",
       "      <td>0</td>\n",
       "      <td>0</td>\n",
       "      <td>1</td>\n",
       "    </tr>\n",
       "    <tr>\n",
       "      <th>1</th>\n",
       "      <td>0</td>\n",
       "      <td>1</td>\n",
       "      <td>0</td>\n",
       "    </tr>\n",
       "    <tr>\n",
       "      <th>2</th>\n",
       "      <td>1</td>\n",
       "      <td>0</td>\n",
       "      <td>0</td>\n",
       "    </tr>\n",
       "    <tr>\n",
       "      <th>3</th>\n",
       "      <td>1</td>\n",
       "      <td>1</td>\n",
       "      <td>1</td>\n",
       "    </tr>\n",
       "  </tbody>\n",
       "</table>\n",
       "</div>"
      ],
      "text/plain": [
       "   X1  X2  Y\n",
       "0   0   0  1\n",
       "1   0   1  0\n",
       "2   1   0  0\n",
       "3   1   1  1"
      ]
     },
     "metadata": {},
     "output_type": "display_data"
    }
   ],
   "source": [
    "X = np.array([[0, 0], [0, 1], [1, 0], [1, 1]])\n",
    "Y = np.array([[1], [0], [0], [1]])\n",
    "\n",
    "df = pd.DataFrame(np.concatenate((X,Y),axis=1), columns = ['X1','X2','Y'])\n",
    "display(df)"
   ]
  },
  {
   "cell_type": "code",
   "execution_count": 55,
   "metadata": {},
   "outputs": [],
   "source": [
    "times = 500\n",
    "Epoch=np.arange(0,times)\n",
    "Error=[0]*times\n",
    "Wh=np.random.uniform(size=(2,2)) \n",
    "Bh=np.random.uniform(size=(1,2)) \n",
    "Wo=np.random.uniform(size=(2,1)) \n",
    "Bo=np.random.uniform(size=(1,1)) \n",
    "for i in range(0,times):\n",
    "    a1 = X\n",
    "    z2 = np.dot(a1, Wh) + Bh\n",
    "    a2 = sigmoid(z2)\n",
    "    z3 = np.dot(a2, Wo) + Bo\n",
    "    a3 = sigmoid(z3)\n",
    "    error = (Y - a3)\n",
    "    Error[i]=error.mean()\n",
    "    delta_output = error * sigmoid_der(a3) #(4,1)\n",
    "    output_update = np.dot(a2.T, delta_output) #(2,1)\n",
    "    error_h = np.dot(delta_output, Wo.T) #(4,2)\n",
    "    delta_hidden = error_h * sigmoid_der(a2) #(4,2)\n",
    "    hidden_update = np.dot(a1.T, delta_hidden) #(2,2)\n",
    "    Wo = Wo + output_update*0.1 #(2,1)\n",
    "    Bo = Bo + np.sum(delta_output,axis=0)*0.1 #(1,1)\n",
    "    Wh = Wh + hidden_update*0.1 #(2,2)\n",
    "    Bh = Bh + np.sum(delta_hidden,axis=0)*0.1 #(1,2)"
   ]
  },
  {
   "cell_type": "code",
   "execution_count": 56,
   "metadata": {},
   "outputs": [
    {
     "data": {
      "text/plain": [
       "[<matplotlib.lines.Line2D at 0x20b49f6a490>]"
      ]
     },
     "execution_count": 56,
     "metadata": {},
     "output_type": "execute_result"
    },
    {
     "data": {
      "image/png": "[encoded data removed]",
      "text/plain": [
       "<Figure size 432x288 with 1 Axes>"
      ]
     },
     "metadata": {
      "needs_background": "light"
     },
     "output_type": "display_data"
    }
   ],
   "source": [
    "# plot\n",
    "plt.xlabel('Epoch') \n",
    "plt.ylabel('Error') \n",
    "plt.title('Error vs Epoch for XNOR Gate') \n",
    "plt.plot(Epoch, Error) "
   ]
  }
 ],
 "metadata": {
  "kernelspec": {
   "display_name": "Python 3",
   "language": "python",
   "name": "python3"
  },
  "language_info": {
   "codemirror_mode": {
    "name": "ipython",
    "version": 3
   },
   "file_extension": ".py",
   "mimetype": "text/x-python",
   "name": "python",
   "nbconvert_exporter": "python",
   "pygments_lexer": "ipython3",
   "version": "3.8.5"
  }
 },
 "nbformat": 4,
 "nbformat_minor": 4
}
